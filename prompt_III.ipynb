{
 "cells": [
  {
   "cell_type": "markdown",
   "metadata": {},
   "source": [
    "# Practical Application III: Comparing Classifiers\n",
    "\n",
    "**Overview**: In this practical application, your goal is to compare the performance of the classifiers we encountered in this section, namely K Nearest Neighbor, Logistic Regression, Decision Trees, and Support Vector Machines.  We will utilize a dataset related to marketing bank products over the telephone.  \n",
    "\n"
   ]
  },
  {
   "cell_type": "markdown",
   "metadata": {},
   "source": [
    "### Getting Started\n",
    "\n",
    "Our dataset comes from the UCI Machine Learning repository [link](https://archive.ics.uci.edu/ml/datasets/bank+marketing).  The data is from a Portugese banking institution and is a collection of the results of multiple marketing campaigns.  We will make use of the article accompanying the dataset [here](CRISP-DM-BANK.pdf) for more information on the data and features.\n",
    "\n"
   ]
  },
  {
   "cell_type": "markdown",
   "metadata": {},
   "source": [
    "### Problem 1: Understanding the Data\n",
    "\n",
    "To gain a better understanding of the data, please read the information provided in the UCI link above, and examine the **Materials and Methods** section of the paper.  How many marketing campaigns does this data represent?"
   ]
  },
  {
   "cell_type": "markdown",
   "metadata": {},
   "source": [
    "The data was collected from a Portuguese bank. This bank conducted direct marketing campaigns from its own call center using human agents with some use of the internet. The original dataset represents 17 marketing campaigns conducted between May 2008 and November 2010 for a total of 79354 records [Moro er al. 2014]. The dataset from UCI contains a subset of 41188 records."
   ]
  },
  {
   "cell_type": "markdown",
   "metadata": {},
   "source": [
    "### Problem 2: Read in the Data\n",
    "\n",
    "Use pandas to read in the dataset `bank-additional-full.csv` and assign to a meaningful variable name."
   ]
  },
  {
   "cell_type": "code",
   "execution_count": 1,
   "metadata": {},
   "outputs": [],
   "source": [
    "import numpy as np\n",
    "import pandas as pd\n",
    "import seaborn as sns\n",
    "import matplotlib.pyplot as plt\n",
    "import warnings\n",
    "import time    \n",
    "\n",
    "from sklearn.model_selection import train_test_split, GridSearchCV\n",
    "from sklearn.preprocessing import OrdinalEncoder, StandardScaler\n",
    "from sklearn.pipeline import Pipeline\n",
    "from sklearn.dummy import DummyClassifier\n",
    "from sklearn.linear_model import LogisticRegression\n",
    "from sklearn.neighbors import KNeighborsClassifier\n",
    "from sklearn.tree import DecisionTreeClassifier\n",
    "from sklearn.svm import SVC\n",
    "from sklearn.metrics import confusion_matrix, ConfusionMatrixDisplay\n",
    "from sklearn.metrics import accuracy_score, recall_score, precision_score, make_scorer\n",
    "from sklearn.feature_selection import SelectFromModel\n",
    "\n",
    "warnings.filterwarnings(\"ignore\", \"use_inf_as_na\")"
   ]
  },
  {
   "cell_type": "code",
   "execution_count": 2,
   "metadata": {},
   "outputs": [],
   "source": [
    "bank = pd.read_csv('data/bank-additional-full.csv', sep = ';')"
   ]
  },
  {
   "cell_type": "code",
   "execution_count": 3,
   "metadata": {},
   "outputs": [
    {
     "data": {
      "text/html": [
       "<div>\n",
       "<style scoped>\n",
       "    .dataframe tbody tr th:only-of-type {\n",
       "        vertical-align: middle;\n",
       "    }\n",
       "\n",
       "    .dataframe tbody tr th {\n",
       "        vertical-align: top;\n",
       "    }\n",
       "\n",
       "    .dataframe thead th {\n",
       "        text-align: right;\n",
       "    }\n",
       "</style>\n",
       "<table border=\"1\" class=\"dataframe\">\n",
       "  <thead>\n",
       "    <tr style=\"text-align: right;\">\n",
       "      <th></th>\n",
       "      <th>age</th>\n",
       "      <th>job</th>\n",
       "      <th>marital</th>\n",
       "      <th>education</th>\n",
       "      <th>default</th>\n",
       "      <th>housing</th>\n",
       "      <th>loan</th>\n",
       "      <th>contact</th>\n",
       "      <th>month</th>\n",
       "      <th>day_of_week</th>\n",
       "      <th>...</th>\n",
       "      <th>campaign</th>\n",
       "      <th>pdays</th>\n",
       "      <th>previous</th>\n",
       "      <th>poutcome</th>\n",
       "      <th>emp.var.rate</th>\n",
       "      <th>cons.price.idx</th>\n",
       "      <th>cons.conf.idx</th>\n",
       "      <th>euribor3m</th>\n",
       "      <th>nr.employed</th>\n",
       "      <th>y</th>\n",
       "    </tr>\n",
       "  </thead>\n",
       "  <tbody>\n",
       "    <tr>\n",
       "      <th>0</th>\n",
       "      <td>56</td>\n",
       "      <td>housemaid</td>\n",
       "      <td>married</td>\n",
       "      <td>basic.4y</td>\n",
       "      <td>no</td>\n",
       "      <td>no</td>\n",
       "      <td>no</td>\n",
       "      <td>telephone</td>\n",
       "      <td>may</td>\n",
       "      <td>mon</td>\n",
       "      <td>...</td>\n",
       "      <td>1</td>\n",
       "      <td>999</td>\n",
       "      <td>0</td>\n",
       "      <td>nonexistent</td>\n",
       "      <td>1.1</td>\n",
       "      <td>93.994</td>\n",
       "      <td>-36.4</td>\n",
       "      <td>4.857</td>\n",
       "      <td>5191.0</td>\n",
       "      <td>no</td>\n",
       "    </tr>\n",
       "    <tr>\n",
       "      <th>1</th>\n",
       "      <td>57</td>\n",
       "      <td>services</td>\n",
       "      <td>married</td>\n",
       "      <td>high.school</td>\n",
       "      <td>unknown</td>\n",
       "      <td>no</td>\n",
       "      <td>no</td>\n",
       "      <td>telephone</td>\n",
       "      <td>may</td>\n",
       "      <td>mon</td>\n",
       "      <td>...</td>\n",
       "      <td>1</td>\n",
       "      <td>999</td>\n",
       "      <td>0</td>\n",
       "      <td>nonexistent</td>\n",
       "      <td>1.1</td>\n",
       "      <td>93.994</td>\n",
       "      <td>-36.4</td>\n",
       "      <td>4.857</td>\n",
       "      <td>5191.0</td>\n",
       "      <td>no</td>\n",
       "    </tr>\n",
       "    <tr>\n",
       "      <th>2</th>\n",
       "      <td>37</td>\n",
       "      <td>services</td>\n",
       "      <td>married</td>\n",
       "      <td>high.school</td>\n",
       "      <td>no</td>\n",
       "      <td>yes</td>\n",
       "      <td>no</td>\n",
       "      <td>telephone</td>\n",
       "      <td>may</td>\n",
       "      <td>mon</td>\n",
       "      <td>...</td>\n",
       "      <td>1</td>\n",
       "      <td>999</td>\n",
       "      <td>0</td>\n",
       "      <td>nonexistent</td>\n",
       "      <td>1.1</td>\n",
       "      <td>93.994</td>\n",
       "      <td>-36.4</td>\n",
       "      <td>4.857</td>\n",
       "      <td>5191.0</td>\n",
       "      <td>no</td>\n",
       "    </tr>\n",
       "    <tr>\n",
       "      <th>3</th>\n",
       "      <td>40</td>\n",
       "      <td>admin.</td>\n",
       "      <td>married</td>\n",
       "      <td>basic.6y</td>\n",
       "      <td>no</td>\n",
       "      <td>no</td>\n",
       "      <td>no</td>\n",
       "      <td>telephone</td>\n",
       "      <td>may</td>\n",
       "      <td>mon</td>\n",
       "      <td>...</td>\n",
       "      <td>1</td>\n",
       "      <td>999</td>\n",
       "      <td>0</td>\n",
       "      <td>nonexistent</td>\n",
       "      <td>1.1</td>\n",
       "      <td>93.994</td>\n",
       "      <td>-36.4</td>\n",
       "      <td>4.857</td>\n",
       "      <td>5191.0</td>\n",
       "      <td>no</td>\n",
       "    </tr>\n",
       "    <tr>\n",
       "      <th>4</th>\n",
       "      <td>56</td>\n",
       "      <td>services</td>\n",
       "      <td>married</td>\n",
       "      <td>high.school</td>\n",
       "      <td>no</td>\n",
       "      <td>no</td>\n",
       "      <td>yes</td>\n",
       "      <td>telephone</td>\n",
       "      <td>may</td>\n",
       "      <td>mon</td>\n",
       "      <td>...</td>\n",
       "      <td>1</td>\n",
       "      <td>999</td>\n",
       "      <td>0</td>\n",
       "      <td>nonexistent</td>\n",
       "      <td>1.1</td>\n",
       "      <td>93.994</td>\n",
       "      <td>-36.4</td>\n",
       "      <td>4.857</td>\n",
       "      <td>5191.0</td>\n",
       "      <td>no</td>\n",
       "    </tr>\n",
       "  </tbody>\n",
       "</table>\n",
       "<p>5 rows × 21 columns</p>\n",
       "</div>"
      ],
      "text/plain": [
       "   age        job  marital    education  default housing loan    contact  \\\n",
       "0   56  housemaid  married     basic.4y       no      no   no  telephone   \n",
       "1   57   services  married  high.school  unknown      no   no  telephone   \n",
       "2   37   services  married  high.school       no     yes   no  telephone   \n",
       "3   40     admin.  married     basic.6y       no      no   no  telephone   \n",
       "4   56   services  married  high.school       no      no  yes  telephone   \n",
       "\n",
       "  month day_of_week  ...  campaign  pdays  previous     poutcome emp.var.rate  \\\n",
       "0   may         mon  ...         1    999         0  nonexistent          1.1   \n",
       "1   may         mon  ...         1    999         0  nonexistent          1.1   \n",
       "2   may         mon  ...         1    999         0  nonexistent          1.1   \n",
       "3   may         mon  ...         1    999         0  nonexistent          1.1   \n",
       "4   may         mon  ...         1    999         0  nonexistent          1.1   \n",
       "\n",
       "   cons.price.idx  cons.conf.idx  euribor3m  nr.employed   y  \n",
       "0          93.994          -36.4      4.857       5191.0  no  \n",
       "1          93.994          -36.4      4.857       5191.0  no  \n",
       "2          93.994          -36.4      4.857       5191.0  no  \n",
       "3          93.994          -36.4      4.857       5191.0  no  \n",
       "4          93.994          -36.4      4.857       5191.0  no  \n",
       "\n",
       "[5 rows x 21 columns]"
      ]
     },
     "execution_count": 3,
     "metadata": {},
     "output_type": "execute_result"
    }
   ],
   "source": [
    "bank.head()"
   ]
  },
  {
   "cell_type": "markdown",
   "metadata": {},
   "source": [
    "### Problem 3: Understanding the Features\n",
    "\n",
    "\n",
    "Examine the data description below, and determine if any of the features are missing values or need to be coerced to a different data type.\n",
    "\n",
    "\n",
    "```\n",
    "Input variables:\n",
    "# bank client data:\n",
    "1 - age (numeric)\n",
    "2 - job : type of job (categorical: 'admin.','blue-collar','entrepreneur','housemaid','management','retired','self-employed','services','student','technician','unemployed','unknown')\n",
    "3 - marital : marital status (categorical: 'divorced','married','single','unknown'; note: 'divorced' means divorced or widowed)\n",
    "4 - education (categorical: 'basic.4y','basic.6y','basic.9y','high.school','illiterate','professional.course','university.degree','unknown')\n",
    "5 - default: has credit in default? (categorical: 'no','yes','unknown')\n",
    "6 - housing: has housing loan? (categorical: 'no','yes','unknown')\n",
    "7 - loan: has personal loan? (categorical: 'no','yes','unknown')\n",
    "# related with the last contact of the current campaign:\n",
    "8 - contact: contact communication type (categorical: 'cellular','telephone')\n",
    "9 - month: last contact month of year (categorical: 'jan', 'feb', 'mar', ..., 'nov', 'dec')\n",
    "10 - day_of_week: last contact day of the week (categorical: 'mon','tue','wed','thu','fri')\n",
    "11 - duration: last contact duration, in seconds (numeric). Important note: this attribute highly affects the output target (e.g., if duration=0 then y='no'). Yet, the duration is not known before a call is performed. Also, after the end of the call y is obviously known. Thus, this input should only be included for benchmark purposes and should be discarded if the intention is to have a realistic predictive model.\n",
    "# other attributes:\n",
    "12 - campaign: number of contacts performed during this campaign and for this client (numeric, includes last contact)\n",
    "13 - pdays: number of days that passed by after the client was last contacted from a previous campaign (numeric; 999 means client was not previously contacted)\n",
    "14 - previous: number of contacts performed before this campaign and for this client (numeric)\n",
    "15 - poutcome: outcome of the previous marketing campaign (categorical: 'failure','nonexistent','success')\n",
    "# social and economic context attributes\n",
    "16 - emp.var.rate: employment variation rate - quarterly indicator (numeric)\n",
    "17 - cons.price.idx: consumer price index - monthly indicator (numeric)\n",
    "18 - cons.conf.idx: consumer confidence index - monthly indicator (numeric)\n",
    "19 - euribor3m: euribor 3 month rate - daily indicator (numeric)\n",
    "20 - nr.employed: number of employees - quarterly indicator (numeric)\n",
    "\n",
    "Output variable (desired target):\n",
    "21 - y - has the client subscribed a term deposit? (binary: 'yes','no')\n",
    "```\n",
    "\n"
   ]
  },
  {
   "cell_type": "code",
   "execution_count": 4,
   "metadata": {},
   "outputs": [
    {
     "data": {
      "text/plain": [
       "y\n",
       "no     36548\n",
       "yes     4640\n",
       "Name: count, dtype: int64"
      ]
     },
     "execution_count": 4,
     "metadata": {},
     "output_type": "execute_result"
    }
   ],
   "source": [
    "bank['y'].value_counts()"
   ]
  },
  {
   "cell_type": "code",
   "execution_count": 5,
   "metadata": {},
   "outputs": [
    {
     "data": {
      "image/png": "[encoded data removed]",
      "text/plain": [
       "<Figure size 640x480 with 1 Axes>"
      ]
     },
     "metadata": {},
     "output_type": "display_data"
    }
   ],
   "source": [
    "fig, ax = plt.subplots()\n",
    "plt.title('Taget Balance')\n",
    "sns.histplot(data=bank, x='y')\n",
    "fig.tight_layout(rect=(0,.05,1,1)) \n",
    "plt.show()\n",
    "fig.savefig(\"images/target_balance.png\", bbox_inches='tight');"
   ]
  },
  {
   "cell_type": "markdown",
   "metadata": {},
   "source": [
    "The column 'duration' has no meaningful value in predicting the classification. It is dropped."
   ]
  },
  {
   "cell_type": "code",
   "execution_count": 6,
   "metadata": {},
   "outputs": [],
   "source": [
    "bank = bank.drop('duration', axis=1)"
   ]
  },
  {
   "cell_type": "markdown",
   "metadata": {},
   "source": [
    "Isolating the numerical features:"
   ]
  },
  {
   "cell_type": "code",
   "execution_count": 7,
   "metadata": {},
   "outputs": [],
   "source": [
    "bank_numerical = bank.drop(['job','marital','education','default','housing','loan','contact','month','day_of_week','poutcome', 'y'], axis=1)"
   ]
  },
  {
   "cell_type": "code",
   "execution_count": 8,
   "metadata": {},
   "outputs": [
    {
     "name": "stdout",
     "output_type": "stream",
     "text": [
      "count    41188.00000\n",
      "mean        40.02406\n",
      "std         10.42125\n",
      "min         17.00000\n",
      "25%         32.00000\n",
      "50%         38.00000\n",
      "75%         47.00000\n",
      "max         98.00000\n",
      "Name: age, dtype: float64\n",
      "---------------\n",
      "count    41188.000000\n",
      "mean         2.567593\n",
      "std          2.770014\n",
      "min          1.000000\n",
      "25%          1.000000\n",
      "50%          2.000000\n",
      "75%          3.000000\n",
      "max         56.000000\n",
      "Name: campaign, dtype: float64\n",
      "---------------\n",
      "count    41188.000000\n",
      "mean       962.475454\n",
      "std        186.910907\n",
      "min          0.000000\n",
      "25%        999.000000\n",
      "50%        999.000000\n",
      "75%        999.000000\n",
      "max        999.000000\n",
      "Name: pdays, dtype: float64\n",
      "---------------\n",
      "count    41188.000000\n",
      "mean         0.172963\n",
      "std          0.494901\n",
      "min          0.000000\n",
      "25%          0.000000\n",
      "50%          0.000000\n",
      "75%          0.000000\n",
      "max          7.000000\n",
      "Name: previous, dtype: float64\n",
      "---------------\n",
      "count    41188.000000\n",
      "mean         0.081886\n",
      "std          1.570960\n",
      "min         -3.400000\n",
      "25%         -1.800000\n",
      "50%          1.100000\n",
      "75%          1.400000\n",
      "max          1.400000\n",
      "Name: emp.var.rate, dtype: float64\n",
      "---------------\n",
      "count    41188.000000\n",
      "mean        93.575664\n",
      "std          0.578840\n",
      "min         92.201000\n",
      "25%         93.075000\n",
      "50%         93.749000\n",
      "75%         93.994000\n",
      "max         94.767000\n",
      "Name: cons.price.idx, dtype: float64\n",
      "---------------\n",
      "count    41188.000000\n",
      "mean       -40.502600\n",
      "std          4.628198\n",
      "min        -50.800000\n",
      "25%        -42.700000\n",
      "50%        -41.800000\n",
      "75%        -36.400000\n",
      "max        -26.900000\n",
      "Name: cons.conf.idx, dtype: float64\n",
      "---------------\n",
      "count    41188.000000\n",
      "mean         3.621291\n",
      "std          1.734447\n",
      "min          0.634000\n",
      "25%          1.344000\n",
      "50%          4.857000\n",
      "75%          4.961000\n",
      "max          5.045000\n",
      "Name: euribor3m, dtype: float64\n",
      "---------------\n",
      "count    41188.000000\n",
      "mean      5167.035911\n",
      "std         72.251528\n",
      "min       4963.600000\n",
      "25%       5099.100000\n",
      "50%       5191.000000\n",
      "75%       5228.100000\n",
      "max       5228.100000\n",
      "Name: nr.employed, dtype: float64\n",
      "---------------\n"
     ]
    }
   ],
   "source": [
    "for column in bank_numerical:\n",
    "    print(bank_numerical[column].describe())\n",
    "    print('---------------')"
   ]
  },
  {
   "cell_type": "markdown",
   "metadata": {},
   "source": [
    "The column 'campaign' appears to have outliers that will need to be dropped.\n",
    "\n",
    "The column 'pdays' has over 95% of values indicating there was no previous contact. This column, as well as 'previous' and 'poutcome', will be dopped."
   ]
  },
  {
   "cell_type": "markdown",
   "metadata": {},
   "source": [
    "\n",
    "\n",
    "Isolating the catagorical features:"
   ]
  },
  {
   "cell_type": "code",
   "execution_count": 9,
   "metadata": {},
   "outputs": [],
   "source": [
    "bank_catagorical = bank.drop(['age','campaign','pdays','previous','emp.var.rate','cons.price.idx','cons.conf.idx','euribor3m','nr.employed', 'y'], axis=1)"
   ]
  },
  {
   "cell_type": "code",
   "execution_count": 10,
   "metadata": {},
   "outputs": [
    {
     "name": "stdout",
     "output_type": "stream",
     "text": [
      "job\n",
      "admin.           10422\n",
      "blue-collar       9254\n",
      "technician        6743\n",
      "services          3969\n",
      "management        2924\n",
      "retired           1720\n",
      "entrepreneur      1456\n",
      "self-employed     1421\n",
      "housemaid         1060\n",
      "unemployed        1014\n",
      "student            875\n",
      "unknown            330\n",
      "Name: count, dtype: int64\n",
      "---------------\n",
      "marital\n",
      "married     24928\n",
      "single      11568\n",
      "divorced     4612\n",
      "unknown        80\n",
      "Name: count, dtype: int64\n",
      "---------------\n",
      "education\n",
      "university.degree      12168\n",
      "high.school             9515\n",
      "basic.9y                6045\n",
      "professional.course     5243\n",
      "basic.4y                4176\n",
      "basic.6y                2292\n",
      "unknown                 1731\n",
      "illiterate                18\n",
      "Name: count, dtype: int64\n",
      "---------------\n",
      "default\n",
      "no         32588\n",
      "unknown     8597\n",
      "yes            3\n",
      "Name: count, dtype: int64\n",
      "---------------\n",
      "housing\n",
      "yes        21576\n",
      "no         18622\n",
      "unknown      990\n",
      "Name: count, dtype: int64\n",
      "---------------\n",
      "loan\n",
      "no         33950\n",
      "yes         6248\n",
      "unknown      990\n",
      "Name: count, dtype: int64\n",
      "---------------\n",
      "contact\n",
      "cellular     26144\n",
      "telephone    15044\n",
      "Name: count, dtype: int64\n",
      "---------------\n",
      "month\n",
      "may    13769\n",
      "jul     7174\n",
      "aug     6178\n",
      "jun     5318\n",
      "nov     4101\n",
      "apr     2632\n",
      "oct      718\n",
      "sep      570\n",
      "mar      546\n",
      "dec      182\n",
      "Name: count, dtype: int64\n",
      "---------------\n",
      "day_of_week\n",
      "thu    8623\n",
      "mon    8514\n",
      "wed    8134\n",
      "tue    8090\n",
      "fri    7827\n",
      "Name: count, dtype: int64\n",
      "---------------\n",
      "poutcome\n",
      "nonexistent    35563\n",
      "failure         4252\n",
      "success         1373\n",
      "Name: count, dtype: int64\n",
      "---------------\n"
     ]
    }
   ],
   "source": [
    "for column in bank_catagorical:\n",
    "    print(bank_catagorical[column].value_counts())\n",
    "    print('---------------')"
   ]
  },
  {
   "cell_type": "markdown",
   "metadata": {},
   "source": [
    "The catagorical features will need to be converted to numerical. The features 'default', 'housing', 'loan', and 'contact' can be binary encoded. The feature 'education' can be ordinally encoded. The features 'job' ,'marital', 'month', and 'day_of_week' will be one hot encoded."
   ]
  },
  {
   "cell_type": "markdown",
   "metadata": {},
   "source": [
    "Several of the catagorical features have 'unknown' values. These are equivalent to null values. These will be converted to null and the rows containing these the 'unknown' values will be dropped."
   ]
  },
  {
   "cell_type": "code",
   "execution_count": 11,
   "metadata": {},
   "outputs": [
    {
     "name": "stdout",
     "output_type": "stream",
     "text": [
      "Number of duplicate in the bank dataset: 1784\n",
      "4.33% are duplicates\n"
     ]
    }
   ],
   "source": [
    "print('Number of duplicate in the bank dataset: ' + str(bank.duplicated().sum()))\n",
    "print(str(round(((bank.duplicated().sum() / bank.shape[0]) * 100), 2)) + '% are duplicates')"
   ]
  },
  {
   "cell_type": "markdown",
   "metadata": {},
   "source": [
    "Duplicate rows will be dropped."
   ]
  },
  {
   "cell_type": "markdown",
   "metadata": {},
   "source": [
    "### Problem 4: Understanding the Task\n",
    "\n",
    "After examining the description and data, your goal now is to clearly state the *Business Objective* of the task.  State the objective below."
   ]
  },
  {
   "cell_type": "markdown",
   "metadata": {},
   "source": [
    "The business objective is to determine how to efficiently use campaign resources to increase client subscriptions. Models will be built to predict if a client will subscribe a term deposit based on the client attributes. Mass campaigns are far less successful than directed marketing campaigns. Knowing customer tendancies will allow the business to determine where to most effectively allocate campaign resources to maximize subscriptions. "
   ]
  },
  {
   "cell_type": "markdown",
   "metadata": {},
   "source": [
    "### Problem 5: Engineering Features\n",
    "\n",
    "Now that you understand your business objective, we will build a basic model to get started.  Before we can do this, we must work to encode the data.  Using just the bank information features, prepare the features and target column for modeling with appropriate encoding and transformations."
   ]
  },
  {
   "cell_type": "code",
   "execution_count": 12,
   "metadata": {},
   "outputs": [
    {
     "name": "stdout",
     "output_type": "stream",
     "text": [
      "dataset row count: 41188\n"
     ]
    }
   ],
   "source": [
    "print('dataset row count: ' + str(bank.shape[0]))"
   ]
  },
  {
   "cell_type": "markdown",
   "metadata": {},
   "source": [
    "Remove duplicate records."
   ]
  },
  {
   "cell_type": "code",
   "execution_count": 13,
   "metadata": {},
   "outputs": [],
   "source": [
    "bank_nodupes = bank.drop_duplicates()"
   ]
  },
  {
   "cell_type": "code",
   "execution_count": 14,
   "metadata": {},
   "outputs": [
    {
     "name": "stdout",
     "output_type": "stream",
     "text": [
      "dataset row count: 39404\n"
     ]
    }
   ],
   "source": [
    "print('dataset row count: ' + str(bank_nodupes.shape[0]))"
   ]
  },
  {
   "cell_type": "markdown",
   "metadata": {},
   "source": [
    "Replace 'unknown' values with null and drop rows with null values."
   ]
  },
  {
   "cell_type": "code",
   "execution_count": 15,
   "metadata": {},
   "outputs": [],
   "source": [
    "bank_null = bank_nodupes.replace('unknown', None)\n",
    "bank_cleaned = bank_null.dropna()"
   ]
  },
  {
   "cell_type": "code",
   "execution_count": 16,
   "metadata": {},
   "outputs": [
    {
     "name": "stdout",
     "output_type": "stream",
     "text": [
      "dataset row count: 29070\n"
     ]
    }
   ],
   "source": [
    "print('dataset row count: ' + str(bank_cleaned.shape[0]))"
   ]
  },
  {
   "cell_type": "markdown",
   "metadata": {},
   "source": [
    "The column 'campaign' appears to have outliers."
   ]
  },
  {
   "cell_type": "code",
   "execution_count": 17,
   "metadata": {},
   "outputs": [
    {
     "data": {
      "text/plain": [
       "count    29070.000000\n",
       "mean         2.573203\n",
       "std          2.767491\n",
       "min          1.000000\n",
       "25%          1.000000\n",
       "50%          2.000000\n",
       "75%          3.000000\n",
       "max         43.000000\n",
       "Name: campaign, dtype: float64"
      ]
     },
     "execution_count": 17,
     "metadata": {},
     "output_type": "execute_result"
    }
   ],
   "source": [
    "bank_cleaned['campaign'].describe()"
   ]
  },
  {
   "cell_type": "code",
   "execution_count": 18,
   "metadata": {},
   "outputs": [
    {
     "data": {
      "image/png": "[encoded data removed]",
      "text/plain": [
       "<Figure size 640x480 with 1 Axes>"
      ]
     },
     "metadata": {},
     "output_type": "display_data"
    }
   ],
   "source": [
    "fig, ax = plt.subplots()\n",
    "plt.title('Feature \"campaign\" Distribution Before Outlier Removal')\n",
    "sns.histplot(data=bank_cleaned, x=\"campaign\")\n",
    "fig.tight_layout(rect=(0,.05,1,1)) \n",
    "plt.show()\n",
    "fig.savefig(\"images/campaign_before.png\", bbox_inches='tight');"
   ]
  },
  {
   "cell_type": "code",
   "execution_count": 19,
   "metadata": {},
   "outputs": [],
   "source": [
    "bank_cleaned = bank_cleaned[bank_cleaned['campaign'] < 10]"
   ]
  },
  {
   "cell_type": "code",
   "execution_count": 20,
   "metadata": {},
   "outputs": [
    {
     "data": {
      "text/plain": [
       "count    28315.000000\n",
       "mean         2.241286\n",
       "std          1.617079\n",
       "min          1.000000\n",
       "25%          1.000000\n",
       "50%          2.000000\n",
       "75%          3.000000\n",
       "max          9.000000\n",
       "Name: campaign, dtype: float64"
      ]
     },
     "execution_count": 20,
     "metadata": {},
     "output_type": "execute_result"
    }
   ],
   "source": [
    "bank_cleaned['campaign'].describe()"
   ]
  },
  {
   "cell_type": "code",
   "execution_count": 21,
   "metadata": {},
   "outputs": [
    {
     "data": {
      "image/png": "[encoded data removed]",
      "text/plain": [
       "<Figure size 640x480 with 1 Axes>"
      ]
     },
     "metadata": {},
     "output_type": "display_data"
    }
   ],
   "source": [
    "fig, ax = plt.subplots()\n",
    "plt.title('Feature \"campaign\" Distribution After Outlier Removal')\n",
    "sns.histplot(data=bank_cleaned, x=\"campaign\")\n",
    "fig.tight_layout(rect=(0,.05,1,1)) \n",
    "plt.show()\n",
    "fig.savefig(\"images/campaign_after.png\", bbox_inches='tight');"
   ]
  },
  {
   "cell_type": "code",
   "execution_count": null,
   "metadata": {},
   "outputs": [],
   "source": []
  },
  {
   "cell_type": "markdown",
   "metadata": {},
   "source": [
    "The column 'pdays' has over 95% of values indicating there was no previous contact. This column, as well as 'previous' and 'poutcome', are dopped."
   ]
  },
  {
   "cell_type": "code",
   "execution_count": 22,
   "metadata": {},
   "outputs": [],
   "source": [
    "bank_cleaned = bank_cleaned.drop(['pdays','previous','poutcome'], axis=1)"
   ]
  },
  {
   "cell_type": "code",
   "execution_count": 23,
   "metadata": {},
   "outputs": [
    {
     "data": {
      "text/html": [
       "<div>\n",
       "<style scoped>\n",
       "    .dataframe tbody tr th:only-of-type {\n",
       "        vertical-align: middle;\n",
       "    }\n",
       "\n",
       "    .dataframe tbody tr th {\n",
       "        vertical-align: top;\n",
       "    }\n",
       "\n",
       "    .dataframe thead th {\n",
       "        text-align: right;\n",
       "    }\n",
       "</style>\n",
       "<table border=\"1\" class=\"dataframe\">\n",
       "  <thead>\n",
       "    <tr style=\"text-align: right;\">\n",
       "      <th></th>\n",
       "      <th>age</th>\n",
       "      <th>job</th>\n",
       "      <th>marital</th>\n",
       "      <th>education</th>\n",
       "      <th>default</th>\n",
       "      <th>housing</th>\n",
       "      <th>loan</th>\n",
       "      <th>contact</th>\n",
       "      <th>month</th>\n",
       "      <th>day_of_week</th>\n",
       "      <th>campaign</th>\n",
       "      <th>emp.var.rate</th>\n",
       "      <th>cons.price.idx</th>\n",
       "      <th>cons.conf.idx</th>\n",
       "      <th>euribor3m</th>\n",
       "      <th>nr.employed</th>\n",
       "      <th>y</th>\n",
       "    </tr>\n",
       "  </thead>\n",
       "  <tbody>\n",
       "    <tr>\n",
       "      <th>0</th>\n",
       "      <td>56</td>\n",
       "      <td>housemaid</td>\n",
       "      <td>married</td>\n",
       "      <td>basic.4y</td>\n",
       "      <td>no</td>\n",
       "      <td>no</td>\n",
       "      <td>no</td>\n",
       "      <td>telephone</td>\n",
       "      <td>may</td>\n",
       "      <td>mon</td>\n",
       "      <td>1</td>\n",
       "      <td>1.1</td>\n",
       "      <td>93.994</td>\n",
       "      <td>-36.4</td>\n",
       "      <td>4.857</td>\n",
       "      <td>5191.0</td>\n",
       "      <td>no</td>\n",
       "    </tr>\n",
       "    <tr>\n",
       "      <th>2</th>\n",
       "      <td>37</td>\n",
       "      <td>services</td>\n",
       "      <td>married</td>\n",
       "      <td>high.school</td>\n",
       "      <td>no</td>\n",
       "      <td>yes</td>\n",
       "      <td>no</td>\n",
       "      <td>telephone</td>\n",
       "      <td>may</td>\n",
       "      <td>mon</td>\n",
       "      <td>1</td>\n",
       "      <td>1.1</td>\n",
       "      <td>93.994</td>\n",
       "      <td>-36.4</td>\n",
       "      <td>4.857</td>\n",
       "      <td>5191.0</td>\n",
       "      <td>no</td>\n",
       "    </tr>\n",
       "    <tr>\n",
       "      <th>3</th>\n",
       "      <td>40</td>\n",
       "      <td>admin.</td>\n",
       "      <td>married</td>\n",
       "      <td>basic.6y</td>\n",
       "      <td>no</td>\n",
       "      <td>no</td>\n",
       "      <td>no</td>\n",
       "      <td>telephone</td>\n",
       "      <td>may</td>\n",
       "      <td>mon</td>\n",
       "      <td>1</td>\n",
       "      <td>1.1</td>\n",
       "      <td>93.994</td>\n",
       "      <td>-36.4</td>\n",
       "      <td>4.857</td>\n",
       "      <td>5191.0</td>\n",
       "      <td>no</td>\n",
       "    </tr>\n",
       "    <tr>\n",
       "      <th>4</th>\n",
       "      <td>56</td>\n",
       "      <td>services</td>\n",
       "      <td>married</td>\n",
       "      <td>high.school</td>\n",
       "      <td>no</td>\n",
       "      <td>no</td>\n",
       "      <td>yes</td>\n",
       "      <td>telephone</td>\n",
       "      <td>may</td>\n",
       "      <td>mon</td>\n",
       "      <td>1</td>\n",
       "      <td>1.1</td>\n",
       "      <td>93.994</td>\n",
       "      <td>-36.4</td>\n",
       "      <td>4.857</td>\n",
       "      <td>5191.0</td>\n",
       "      <td>no</td>\n",
       "    </tr>\n",
       "    <tr>\n",
       "      <th>6</th>\n",
       "      <td>59</td>\n",
       "      <td>admin.</td>\n",
       "      <td>married</td>\n",
       "      <td>professional.course</td>\n",
       "      <td>no</td>\n",
       "      <td>no</td>\n",
       "      <td>no</td>\n",
       "      <td>telephone</td>\n",
       "      <td>may</td>\n",
       "      <td>mon</td>\n",
       "      <td>1</td>\n",
       "      <td>1.1</td>\n",
       "      <td>93.994</td>\n",
       "      <td>-36.4</td>\n",
       "      <td>4.857</td>\n",
       "      <td>5191.0</td>\n",
       "      <td>no</td>\n",
       "    </tr>\n",
       "    <tr>\n",
       "      <th>8</th>\n",
       "      <td>24</td>\n",
       "      <td>technician</td>\n",
       "      <td>single</td>\n",
       "      <td>professional.course</td>\n",
       "      <td>no</td>\n",
       "      <td>yes</td>\n",
       "      <td>no</td>\n",
       "      <td>telephone</td>\n",
       "      <td>may</td>\n",
       "      <td>mon</td>\n",
       "      <td>1</td>\n",
       "      <td>1.1</td>\n",
       "      <td>93.994</td>\n",
       "      <td>-36.4</td>\n",
       "      <td>4.857</td>\n",
       "      <td>5191.0</td>\n",
       "      <td>no</td>\n",
       "    </tr>\n",
       "    <tr>\n",
       "      <th>9</th>\n",
       "      <td>25</td>\n",
       "      <td>services</td>\n",
       "      <td>single</td>\n",
       "      <td>high.school</td>\n",
       "      <td>no</td>\n",
       "      <td>yes</td>\n",
       "      <td>no</td>\n",
       "      <td>telephone</td>\n",
       "      <td>may</td>\n",
       "      <td>mon</td>\n",
       "      <td>1</td>\n",
       "      <td>1.1</td>\n",
       "      <td>93.994</td>\n",
       "      <td>-36.4</td>\n",
       "      <td>4.857</td>\n",
       "      <td>5191.0</td>\n",
       "      <td>no</td>\n",
       "    </tr>\n",
       "    <tr>\n",
       "      <th>12</th>\n",
       "      <td>29</td>\n",
       "      <td>blue-collar</td>\n",
       "      <td>single</td>\n",
       "      <td>high.school</td>\n",
       "      <td>no</td>\n",
       "      <td>no</td>\n",
       "      <td>yes</td>\n",
       "      <td>telephone</td>\n",
       "      <td>may</td>\n",
       "      <td>mon</td>\n",
       "      <td>1</td>\n",
       "      <td>1.1</td>\n",
       "      <td>93.994</td>\n",
       "      <td>-36.4</td>\n",
       "      <td>4.857</td>\n",
       "      <td>5191.0</td>\n",
       "      <td>no</td>\n",
       "    </tr>\n",
       "    <tr>\n",
       "      <th>13</th>\n",
       "      <td>57</td>\n",
       "      <td>housemaid</td>\n",
       "      <td>divorced</td>\n",
       "      <td>basic.4y</td>\n",
       "      <td>no</td>\n",
       "      <td>yes</td>\n",
       "      <td>no</td>\n",
       "      <td>telephone</td>\n",
       "      <td>may</td>\n",
       "      <td>mon</td>\n",
       "      <td>1</td>\n",
       "      <td>1.1</td>\n",
       "      <td>93.994</td>\n",
       "      <td>-36.4</td>\n",
       "      <td>4.857</td>\n",
       "      <td>5191.0</td>\n",
       "      <td>no</td>\n",
       "    </tr>\n",
       "    <tr>\n",
       "      <th>14</th>\n",
       "      <td>35</td>\n",
       "      <td>blue-collar</td>\n",
       "      <td>married</td>\n",
       "      <td>basic.6y</td>\n",
       "      <td>no</td>\n",
       "      <td>yes</td>\n",
       "      <td>no</td>\n",
       "      <td>telephone</td>\n",
       "      <td>may</td>\n",
       "      <td>mon</td>\n",
       "      <td>1</td>\n",
       "      <td>1.1</td>\n",
       "      <td>93.994</td>\n",
       "      <td>-36.4</td>\n",
       "      <td>4.857</td>\n",
       "      <td>5191.0</td>\n",
       "      <td>no</td>\n",
       "    </tr>\n",
       "  </tbody>\n",
       "</table>\n",
       "</div>"
      ],
      "text/plain": [
       "    age          job   marital            education default housing loan  \\\n",
       "0    56    housemaid   married             basic.4y      no      no   no   \n",
       "2    37     services   married          high.school      no     yes   no   \n",
       "3    40       admin.   married             basic.6y      no      no   no   \n",
       "4    56     services   married          high.school      no      no  yes   \n",
       "6    59       admin.   married  professional.course      no      no   no   \n",
       "8    24   technician    single  professional.course      no     yes   no   \n",
       "9    25     services    single          high.school      no     yes   no   \n",
       "12   29  blue-collar    single          high.school      no      no  yes   \n",
       "13   57    housemaid  divorced             basic.4y      no     yes   no   \n",
       "14   35  blue-collar   married             basic.6y      no     yes   no   \n",
       "\n",
       "      contact month day_of_week  campaign  emp.var.rate  cons.price.idx  \\\n",
       "0   telephone   may         mon         1           1.1          93.994   \n",
       "2   telephone   may         mon         1           1.1          93.994   \n",
       "3   telephone   may         mon         1           1.1          93.994   \n",
       "4   telephone   may         mon         1           1.1          93.994   \n",
       "6   telephone   may         mon         1           1.1          93.994   \n",
       "8   telephone   may         mon         1           1.1          93.994   \n",
       "9   telephone   may         mon         1           1.1          93.994   \n",
       "12  telephone   may         mon         1           1.1          93.994   \n",
       "13  telephone   may         mon         1           1.1          93.994   \n",
       "14  telephone   may         mon         1           1.1          93.994   \n",
       "\n",
       "    cons.conf.idx  euribor3m  nr.employed   y  \n",
       "0           -36.4      4.857       5191.0  no  \n",
       "2           -36.4      4.857       5191.0  no  \n",
       "3           -36.4      4.857       5191.0  no  \n",
       "4           -36.4      4.857       5191.0  no  \n",
       "6           -36.4      4.857       5191.0  no  \n",
       "8           -36.4      4.857       5191.0  no  \n",
       "9           -36.4      4.857       5191.0  no  \n",
       "12          -36.4      4.857       5191.0  no  \n",
       "13          -36.4      4.857       5191.0  no  \n",
       "14          -36.4      4.857       5191.0  no  "
      ]
     },
     "execution_count": 23,
     "metadata": {},
     "output_type": "execute_result"
    }
   ],
   "source": [
    "bank_cleaned.head(10)"
   ]
  },
  {
   "cell_type": "code",
   "execution_count": 24,
   "metadata": {},
   "outputs": [],
   "source": [
    "pd.set_option('future.no_silent_downcasting', True)"
   ]
  },
  {
   "cell_type": "markdown",
   "metadata": {},
   "source": [
    "The replace command is used to binary encode the features 'default', 'housing', 'loan', and 'contact'."
   ]
  },
  {
   "cell_type": "code",
   "execution_count": 25,
   "metadata": {},
   "outputs": [],
   "source": [
    "bank_cleaned[['default', 'housing', 'loan']] = bank_cleaned[['default', 'housing', 'loan']].replace({'no': 0, 'yes': 1})"
   ]
  },
  {
   "cell_type": "code",
   "execution_count": 26,
   "metadata": {},
   "outputs": [],
   "source": [
    "bank_cleaned['contact'] = bank_cleaned['contact'].replace({'telephone': 0, 'cellular': 1})"
   ]
  },
  {
   "cell_type": "markdown",
   "metadata": {},
   "source": [
    "Ordinal encoding is used to convert 'education' to a numerical feature."
   ]
  },
  {
   "cell_type": "code",
   "execution_count": 27,
   "metadata": {},
   "outputs": [],
   "source": [
    "ordEncoder = OrdinalEncoder(categories=[[ 'illiterate', 'basic.4y', 'basic.6y', 'basic.9y', \n",
    "                                         'high.school', 'professional.course', 'university.degree']])\n",
    "bank_cleaned['education'] = ordEncoder.fit_transform(bank_cleaned[['education']])"
   ]
  },
  {
   "cell_type": "markdown",
   "metadata": {},
   "source": [
    "One hot encoding is used to convert 'job' ,'marital', 'month', and 'day_of_week' to numerical features."
   ]
  },
  {
   "cell_type": "code",
   "execution_count": 28,
   "metadata": {},
   "outputs": [],
   "source": [
    "bank_cleaned = pd.get_dummies(bank_cleaned, columns = ['job' ,'marital', 'month','day_of_week'], dtype=int)"
   ]
  },
  {
   "cell_type": "code",
   "execution_count": 29,
   "metadata": {},
   "outputs": [
    {
     "data": {
      "text/html": [
       "<div>\n",
       "<style scoped>\n",
       "    .dataframe tbody tr th:only-of-type {\n",
       "        vertical-align: middle;\n",
       "    }\n",
       "\n",
       "    .dataframe tbody tr th {\n",
       "        vertical-align: top;\n",
       "    }\n",
       "\n",
       "    .dataframe thead th {\n",
       "        text-align: right;\n",
       "    }\n",
       "</style>\n",
       "<table border=\"1\" class=\"dataframe\">\n",
       "  <thead>\n",
       "    <tr style=\"text-align: right;\">\n",
       "      <th></th>\n",
       "      <th>age</th>\n",
       "      <th>education</th>\n",
       "      <th>default</th>\n",
       "      <th>housing</th>\n",
       "      <th>loan</th>\n",
       "      <th>contact</th>\n",
       "      <th>campaign</th>\n",
       "      <th>emp.var.rate</th>\n",
       "      <th>cons.price.idx</th>\n",
       "      <th>cons.conf.idx</th>\n",
       "      <th>...</th>\n",
       "      <th>month_mar</th>\n",
       "      <th>month_may</th>\n",
       "      <th>month_nov</th>\n",
       "      <th>month_oct</th>\n",
       "      <th>month_sep</th>\n",
       "      <th>day_of_week_fri</th>\n",
       "      <th>day_of_week_mon</th>\n",
       "      <th>day_of_week_thu</th>\n",
       "      <th>day_of_week_tue</th>\n",
       "      <th>day_of_week_wed</th>\n",
       "    </tr>\n",
       "  </thead>\n",
       "  <tbody>\n",
       "    <tr>\n",
       "      <th>0</th>\n",
       "      <td>56</td>\n",
       "      <td>1.0</td>\n",
       "      <td>0</td>\n",
       "      <td>0</td>\n",
       "      <td>0</td>\n",
       "      <td>0</td>\n",
       "      <td>1</td>\n",
       "      <td>1.1</td>\n",
       "      <td>93.994</td>\n",
       "      <td>-36.4</td>\n",
       "      <td>...</td>\n",
       "      <td>0</td>\n",
       "      <td>1</td>\n",
       "      <td>0</td>\n",
       "      <td>0</td>\n",
       "      <td>0</td>\n",
       "      <td>0</td>\n",
       "      <td>1</td>\n",
       "      <td>0</td>\n",
       "      <td>0</td>\n",
       "      <td>0</td>\n",
       "    </tr>\n",
       "    <tr>\n",
       "      <th>2</th>\n",
       "      <td>37</td>\n",
       "      <td>4.0</td>\n",
       "      <td>0</td>\n",
       "      <td>1</td>\n",
       "      <td>0</td>\n",
       "      <td>0</td>\n",
       "      <td>1</td>\n",
       "      <td>1.1</td>\n",
       "      <td>93.994</td>\n",
       "      <td>-36.4</td>\n",
       "      <td>...</td>\n",
       "      <td>0</td>\n",
       "      <td>1</td>\n",
       "      <td>0</td>\n",
       "      <td>0</td>\n",
       "      <td>0</td>\n",
       "      <td>0</td>\n",
       "      <td>1</td>\n",
       "      <td>0</td>\n",
       "      <td>0</td>\n",
       "      <td>0</td>\n",
       "    </tr>\n",
       "    <tr>\n",
       "      <th>3</th>\n",
       "      <td>40</td>\n",
       "      <td>2.0</td>\n",
       "      <td>0</td>\n",
       "      <td>0</td>\n",
       "      <td>0</td>\n",
       "      <td>0</td>\n",
       "      <td>1</td>\n",
       "      <td>1.1</td>\n",
       "      <td>93.994</td>\n",
       "      <td>-36.4</td>\n",
       "      <td>...</td>\n",
       "      <td>0</td>\n",
       "      <td>1</td>\n",
       "      <td>0</td>\n",
       "      <td>0</td>\n",
       "      <td>0</td>\n",
       "      <td>0</td>\n",
       "      <td>1</td>\n",
       "      <td>0</td>\n",
       "      <td>0</td>\n",
       "      <td>0</td>\n",
       "    </tr>\n",
       "    <tr>\n",
       "      <th>4</th>\n",
       "      <td>56</td>\n",
       "      <td>4.0</td>\n",
       "      <td>0</td>\n",
       "      <td>0</td>\n",
       "      <td>1</td>\n",
       "      <td>0</td>\n",
       "      <td>1</td>\n",
       "      <td>1.1</td>\n",
       "      <td>93.994</td>\n",
       "      <td>-36.4</td>\n",
       "      <td>...</td>\n",
       "      <td>0</td>\n",
       "      <td>1</td>\n",
       "      <td>0</td>\n",
       "      <td>0</td>\n",
       "      <td>0</td>\n",
       "      <td>0</td>\n",
       "      <td>1</td>\n",
       "      <td>0</td>\n",
       "      <td>0</td>\n",
       "      <td>0</td>\n",
       "    </tr>\n",
       "    <tr>\n",
       "      <th>6</th>\n",
       "      <td>59</td>\n",
       "      <td>5.0</td>\n",
       "      <td>0</td>\n",
       "      <td>0</td>\n",
       "      <td>0</td>\n",
       "      <td>0</td>\n",
       "      <td>1</td>\n",
       "      <td>1.1</td>\n",
       "      <td>93.994</td>\n",
       "      <td>-36.4</td>\n",
       "      <td>...</td>\n",
       "      <td>0</td>\n",
       "      <td>1</td>\n",
       "      <td>0</td>\n",
       "      <td>0</td>\n",
       "      <td>0</td>\n",
       "      <td>0</td>\n",
       "      <td>1</td>\n",
       "      <td>0</td>\n",
       "      <td>0</td>\n",
       "      <td>0</td>\n",
       "    </tr>\n",
       "    <tr>\n",
       "      <th>8</th>\n",
       "      <td>24</td>\n",
       "      <td>5.0</td>\n",
       "      <td>0</td>\n",
       "      <td>1</td>\n",
       "      <td>0</td>\n",
       "      <td>0</td>\n",
       "      <td>1</td>\n",
       "      <td>1.1</td>\n",
       "      <td>93.994</td>\n",
       "      <td>-36.4</td>\n",
       "      <td>...</td>\n",
       "      <td>0</td>\n",
       "      <td>1</td>\n",
       "      <td>0</td>\n",
       "      <td>0</td>\n",
       "      <td>0</td>\n",
       "      <td>0</td>\n",
       "      <td>1</td>\n",
       "      <td>0</td>\n",
       "      <td>0</td>\n",
       "      <td>0</td>\n",
       "    </tr>\n",
       "    <tr>\n",
       "      <th>9</th>\n",
       "      <td>25</td>\n",
       "      <td>4.0</td>\n",
       "      <td>0</td>\n",
       "      <td>1</td>\n",
       "      <td>0</td>\n",
       "      <td>0</td>\n",
       "      <td>1</td>\n",
       "      <td>1.1</td>\n",
       "      <td>93.994</td>\n",
       "      <td>-36.4</td>\n",
       "      <td>...</td>\n",
       "      <td>0</td>\n",
       "      <td>1</td>\n",
       "      <td>0</td>\n",
       "      <td>0</td>\n",
       "      <td>0</td>\n",
       "      <td>0</td>\n",
       "      <td>1</td>\n",
       "      <td>0</td>\n",
       "      <td>0</td>\n",
       "      <td>0</td>\n",
       "    </tr>\n",
       "    <tr>\n",
       "      <th>12</th>\n",
       "      <td>29</td>\n",
       "      <td>4.0</td>\n",
       "      <td>0</td>\n",
       "      <td>0</td>\n",
       "      <td>1</td>\n",
       "      <td>0</td>\n",
       "      <td>1</td>\n",
       "      <td>1.1</td>\n",
       "      <td>93.994</td>\n",
       "      <td>-36.4</td>\n",
       "      <td>...</td>\n",
       "      <td>0</td>\n",
       "      <td>1</td>\n",
       "      <td>0</td>\n",
       "      <td>0</td>\n",
       "      <td>0</td>\n",
       "      <td>0</td>\n",
       "      <td>1</td>\n",
       "      <td>0</td>\n",
       "      <td>0</td>\n",
       "      <td>0</td>\n",
       "    </tr>\n",
       "    <tr>\n",
       "      <th>13</th>\n",
       "      <td>57</td>\n",
       "      <td>1.0</td>\n",
       "      <td>0</td>\n",
       "      <td>1</td>\n",
       "      <td>0</td>\n",
       "      <td>0</td>\n",
       "      <td>1</td>\n",
       "      <td>1.1</td>\n",
       "      <td>93.994</td>\n",
       "      <td>-36.4</td>\n",
       "      <td>...</td>\n",
       "      <td>0</td>\n",
       "      <td>1</td>\n",
       "      <td>0</td>\n",
       "      <td>0</td>\n",
       "      <td>0</td>\n",
       "      <td>0</td>\n",
       "      <td>1</td>\n",
       "      <td>0</td>\n",
       "      <td>0</td>\n",
       "      <td>0</td>\n",
       "    </tr>\n",
       "    <tr>\n",
       "      <th>14</th>\n",
       "      <td>35</td>\n",
       "      <td>2.0</td>\n",
       "      <td>0</td>\n",
       "      <td>1</td>\n",
       "      <td>0</td>\n",
       "      <td>0</td>\n",
       "      <td>1</td>\n",
       "      <td>1.1</td>\n",
       "      <td>93.994</td>\n",
       "      <td>-36.4</td>\n",
       "      <td>...</td>\n",
       "      <td>0</td>\n",
       "      <td>1</td>\n",
       "      <td>0</td>\n",
       "      <td>0</td>\n",
       "      <td>0</td>\n",
       "      <td>0</td>\n",
       "      <td>1</td>\n",
       "      <td>0</td>\n",
       "      <td>0</td>\n",
       "      <td>0</td>\n",
       "    </tr>\n",
       "  </tbody>\n",
       "</table>\n",
       "<p>10 rows × 42 columns</p>\n",
       "</div>"
      ],
      "text/plain": [
       "    age  education default housing loan contact  campaign  emp.var.rate  \\\n",
       "0    56        1.0       0       0    0       0         1           1.1   \n",
       "2    37        4.0       0       1    0       0         1           1.1   \n",
       "3    40        2.0       0       0    0       0         1           1.1   \n",
       "4    56        4.0       0       0    1       0         1           1.1   \n",
       "6    59        5.0       0       0    0       0         1           1.1   \n",
       "8    24        5.0       0       1    0       0         1           1.1   \n",
       "9    25        4.0       0       1    0       0         1           1.1   \n",
       "12   29        4.0       0       0    1       0         1           1.1   \n",
       "13   57        1.0       0       1    0       0         1           1.1   \n",
       "14   35        2.0       0       1    0       0         1           1.1   \n",
       "\n",
       "    cons.price.idx  cons.conf.idx  ...  month_mar  month_may month_nov  \\\n",
       "0           93.994          -36.4  ...          0          1         0   \n",
       "2           93.994          -36.4  ...          0          1         0   \n",
       "3           93.994          -36.4  ...          0          1         0   \n",
       "4           93.994          -36.4  ...          0          1         0   \n",
       "6           93.994          -36.4  ...          0          1         0   \n",
       "8           93.994          -36.4  ...          0          1         0   \n",
       "9           93.994          -36.4  ...          0          1         0   \n",
       "12          93.994          -36.4  ...          0          1         0   \n",
       "13          93.994          -36.4  ...          0          1         0   \n",
       "14          93.994          -36.4  ...          0          1         0   \n",
       "\n",
       "    month_oct  month_sep  day_of_week_fri  day_of_week_mon  day_of_week_thu  \\\n",
       "0           0          0                0                1                0   \n",
       "2           0          0                0                1                0   \n",
       "3           0          0                0                1                0   \n",
       "4           0          0                0                1                0   \n",
       "6           0          0                0                1                0   \n",
       "8           0          0                0                1                0   \n",
       "9           0          0                0                1                0   \n",
       "12          0          0                0                1                0   \n",
       "13          0          0                0                1                0   \n",
       "14          0          0                0                1                0   \n",
       "\n",
       "    day_of_week_tue  day_of_week_wed  \n",
       "0                 0                0  \n",
       "2                 0                0  \n",
       "3                 0                0  \n",
       "4                 0                0  \n",
       "6                 0                0  \n",
       "8                 0                0  \n",
       "9                 0                0  \n",
       "12                0                0  \n",
       "13                0                0  \n",
       "14                0                0  \n",
       "\n",
       "[10 rows x 42 columns]"
      ]
     },
     "execution_count": 29,
     "metadata": {},
     "output_type": "execute_result"
    }
   ],
   "source": [
    "bank_cleaned.head(10)"
   ]
  },
  {
   "cell_type": "markdown",
   "metadata": {},
   "source": [
    "Separate the target from the dataset."
   ]
  },
  {
   "cell_type": "code",
   "execution_count": 30,
   "metadata": {},
   "outputs": [],
   "source": [
    "y = bank_cleaned['y']\n",
    "X = bank_cleaned.drop('y', axis=1)"
   ]
  },
  {
   "cell_type": "markdown",
   "metadata": {},
   "source": [
    "### Problem 6: Train/Test Split\n",
    "\n",
    "With your data prepared, split it into a train and test set."
   ]
  },
  {
   "cell_type": "code",
   "execution_count": 31,
   "metadata": {},
   "outputs": [],
   "source": [
    "X_train, X_test, y_train, y_test = train_test_split(X, y, random_state=42)"
   ]
  },
  {
   "cell_type": "markdown",
   "metadata": {},
   "source": [
    "Scaling the data"
   ]
  },
  {
   "cell_type": "code",
   "execution_count": 32,
   "metadata": {},
   "outputs": [],
   "source": [
    "scaler = StandardScaler()\n",
    "X_train = pd.DataFrame(scaler.fit_transform(X_train), columns=X.columns)\n",
    "X_test = pd.DataFrame(scaler.transform(X_test), columns=X.columns)"
   ]
  },
  {
   "cell_type": "markdown",
   "metadata": {},
   "source": [
    "### Problem 7: A Baseline Model\n",
    "\n",
    "Before we build our first model, we want to establish a baseline.  What is the baseline performance that our classifier should aim to beat?"
   ]
  },
  {
   "cell_type": "code",
   "execution_count": 33,
   "metadata": {},
   "outputs": [],
   "source": [
    "dummy_start_time_ms = round(time.time() * 1000)\n",
    "dummy_clf = DummyClassifier().fit(X_train, y_train)\n",
    "dummy_end_time_ms = round(time.time() * 1000)"
   ]
  },
  {
   "cell_type": "code",
   "execution_count": 34,
   "metadata": {},
   "outputs": [],
   "source": [
    "baseline_train_time = dummy_end_time_ms - dummy_start_time_ms\n",
    "baseline_train_score = dummy_clf.score(X_train, y_train)\n",
    "baseline_test_score = dummy_clf.score(X_test, y_test)"
   ]
  },
  {
   "cell_type": "markdown",
   "metadata": {},
   "source": [
    "### Problem 8: A Simple Model\n",
    "\n",
    "Use Logistic Regression to build a basic model on your data.  "
   ]
  },
  {
   "cell_type": "code",
   "execution_count": 35,
   "metadata": {},
   "outputs": [],
   "source": [
    "simple_lgr_start_time_ms = round(time.time() * 1000)\n",
    "simple_lgr_pipe = Pipeline([\n",
    "    ('scale', StandardScaler()),\n",
    "    ('lgr', LogisticRegression())]).fit(X_train, y_train)\n",
    "simple_lgr_end_time_ms = round(time.time() * 1000)"
   ]
  },
  {
   "cell_type": "code",
   "execution_count": 36,
   "metadata": {},
   "outputs": [],
   "source": [
    "simple_lgr_train_time = simple_lgr_end_time_ms - simple_lgr_start_time_ms\n",
    "simple_lgr_train_score = simple_lgr_pipe.score(X_train, y_train)\n",
    "simple_lgr_test_score = simple_lgr_pipe.score(X_test, y_test)"
   ]
  },
  {
   "cell_type": "markdown",
   "metadata": {},
   "source": [
    "### Problem 9: Score the Model\n",
    "\n",
    "What is the accuracy of your model?"
   ]
  },
  {
   "cell_type": "code",
   "execution_count": 37,
   "metadata": {},
   "outputs": [
    {
     "name": "stdout",
     "output_type": "stream",
     "text": [
      "Basline Classifier: Train Time is 10 ms, Train Accuracy is 0.8665 , Test Accuracy is 0.8652\n"
     ]
    }
   ],
   "source": [
    "print('Basline Classifier: Train Time is', baseline_train_time, 'ms,', \\\n",
    "      'Train Accuracy is', round(baseline_train_score, 4), ',', \\\n",
    "      'Test Accuracy is', round(baseline_test_score, 4))"
   ]
  },
  {
   "cell_type": "code",
   "execution_count": 38,
   "metadata": {},
   "outputs": [
    {
     "name": "stdout",
     "output_type": "stream",
     "text": [
      "Simple Model: Train Time is 173 ms, Train Accuracy is 0.8742 , Test Accuracy is 0.8698\n"
     ]
    }
   ],
   "source": [
    "print('Simple Model: Train Time is', simple_lgr_train_time, 'ms,', \\\n",
    "      'Train Accuracy is', round(simple_lgr_train_score, 4), ',', \\\n",
    "      'Test Accuracy is', round(simple_lgr_test_score, 4))"
   ]
  },
  {
   "cell_type": "markdown",
   "metadata": {},
   "source": [
    "### Problem 10: Model Comparisons\n",
    "\n",
    "Now, we aim to compare the performance of the Logistic Regression model to our KNN algorithm, Decision Tree, and SVM models.  Using the default settings for each of the models, fit and score each.  Also, be sure to compare the fit time of each of the models.  Present your findings in a `DataFrame` similar to that below:\n",
    "\n",
    "| Model | Train Time | Train Accuracy | Test Accuracy |\n",
    "| ----- | ---------- | -------------  | -----------   |\n",
    "|     |    |.     |.     |"
   ]
  },
  {
   "cell_type": "markdown",
   "metadata": {},
   "source": [
    "Helper functions to get and print model metrics."
   ]
  },
  {
   "cell_type": "code",
   "execution_count": 39,
   "metadata": {},
   "outputs": [],
   "source": [
    "def getMetrics(model, start_time_ms, end_time_ms):\n",
    "    train_time = round(end_time_ms - start_time_ms)\n",
    "    train_score = round(model.score(X_train, y_train), 4)\n",
    "    test_score = round(model.score(X_test, y_test), 4)\n",
    "    return [train_time, train_score, test_score]"
   ]
  },
  {
   "cell_type": "code",
   "execution_count": 40,
   "metadata": {},
   "outputs": [],
   "source": [
    "def printMetrics(train_time, train_score, test_score):\n",
    "    print('Train Time is', train_time, 'ms,', \\\n",
    "      'Train Accuracy is', train_score, ',', \\\n",
    "      'Test Accuracy is', test_score)"
   ]
  },
  {
   "cell_type": "markdown",
   "metadata": {},
   "source": [
    "Logistic regression model with default parameters:"
   ]
  },
  {
   "cell_type": "code",
   "execution_count": 41,
   "metadata": {},
   "outputs": [],
   "source": [
    "lgr_start_time_ms = round(time.time() * 1000) \n",
    "default_lgr = LogisticRegression(max_iter=100).fit(X_train, y_train)\n",
    "lgr_end_time_ms = round(time.time() * 1000)"
   ]
  },
  {
   "cell_type": "code",
   "execution_count": 42,
   "metadata": {},
   "outputs": [
    {
     "name": "stdout",
     "output_type": "stream",
     "text": [
      "Logistic Regression:\n",
      "Train Time is 172 ms, Train Accuracy is 0.8742 , Test Accuracy is 0.8698\n"
     ]
    }
   ],
   "source": [
    "default_lgr_metrics = getMetrics(default_lgr, lgr_start_time_ms, lgr_end_time_ms)\n",
    "print('Logistic Regression:')\n",
    "printMetrics(*default_lgr_metrics)"
   ]
  },
  {
   "cell_type": "markdown",
   "metadata": {},
   "source": [
    "KNN model with default parameters:"
   ]
  },
  {
   "cell_type": "code",
   "execution_count": 43,
   "metadata": {},
   "outputs": [],
   "source": [
    "knn_start_time_ms = round(time.time() * 1000) \n",
    "default_knn = KNeighborsClassifier().fit(X_train, y_train)\n",
    "knn_end_time_ms = round(time.time() * 1000)"
   ]
  },
  {
   "cell_type": "code",
   "execution_count": 44,
   "metadata": {},
   "outputs": [
    {
     "name": "stdout",
     "output_type": "stream",
     "text": [
      "K-Neighbors:\n",
      "Train Time is 33 ms, Train Accuracy is 0.8965 , Test Accuracy is 0.8601\n"
     ]
    }
   ],
   "source": [
    "default_knn_metrics = getMetrics(default_knn, knn_start_time_ms, knn_end_time_ms)\n",
    "print('K-Neighbors:')\n",
    "printMetrics(*default_knn_metrics)"
   ]
  },
  {
   "cell_type": "markdown",
   "metadata": {},
   "source": [
    "Decision tree model with default parameters:"
   ]
  },
  {
   "cell_type": "code",
   "execution_count": 45,
   "metadata": {},
   "outputs": [],
   "source": [
    "dtc_start_time_ms = round(time.time() * 1000) \n",
    "default_dtc = DecisionTreeClassifier().fit(X_train, y_train)\n",
    "dtc_end_time_ms = round(time.time() * 1000)"
   ]
  },
  {
   "cell_type": "code",
   "execution_count": 46,
   "metadata": {},
   "outputs": [
    {
     "name": "stdout",
     "output_type": "stream",
     "text": [
      "Decision Tree: Train Time is\n",
      "Train Time is 129 ms, Train Accuracy is 0.9922 , Test Accuracy is 0.8069\n"
     ]
    }
   ],
   "source": [
    "default_dtc_metrics = getMetrics(default_dtc, dtc_start_time_ms, dtc_end_time_ms)\n",
    "print('Decision Tree: Train Time is')\n",
    "printMetrics(*default_dtc_metrics)"
   ]
  },
  {
   "cell_type": "markdown",
   "metadata": {},
   "source": [
    "Support vector machine with default parameters:"
   ]
  },
  {
   "cell_type": "code",
   "execution_count": 47,
   "metadata": {},
   "outputs": [],
   "source": [
    "svc_start_time_ms = round(time.time() * 1000) \n",
    "default_svc = SVC().fit(X_train, y_train)\n",
    "svc_end_time_ms = round(time.time() * 1000)"
   ]
  },
  {
   "cell_type": "code",
   "execution_count": 48,
   "metadata": {},
   "outputs": [
    {
     "name": "stdout",
     "output_type": "stream",
     "text": [
      "Support Vector Machine:\n",
      "Train Time is 26813 ms, Train Accuracy is 0.8918 , Test Accuracy is 0.8698\n"
     ]
    }
   ],
   "source": [
    "default_svc_metrics = getMetrics(default_svc, svc_start_time_ms, svc_end_time_ms)\n",
    "print('Support Vector Machine:')\n",
    "printMetrics(*default_svc_metrics)"
   ]
  },
  {
   "cell_type": "code",
   "execution_count": 49,
   "metadata": {},
   "outputs": [
    {
     "data": {
      "text/html": [
       "<div>\n",
       "<style scoped>\n",
       "    .dataframe tbody tr th:only-of-type {\n",
       "        vertical-align: middle;\n",
       "    }\n",
       "\n",
       "    .dataframe tbody tr th {\n",
       "        vertical-align: top;\n",
       "    }\n",
       "\n",
       "    .dataframe thead th {\n",
       "        text-align: right;\n",
       "    }\n",
       "</style>\n",
       "<table border=\"1\" class=\"dataframe\">\n",
       "  <thead>\n",
       "    <tr style=\"text-align: right;\">\n",
       "      <th></th>\n",
       "      <th>Train Time (ms)</th>\n",
       "      <th>Train Accuracy</th>\n",
       "      <th>Test Accuracy</th>\n",
       "    </tr>\n",
       "  </thead>\n",
       "  <tbody>\n",
       "    <tr>\n",
       "      <th>Logistic Regression</th>\n",
       "      <td>172.0</td>\n",
       "      <td>0.8742</td>\n",
       "      <td>0.8698</td>\n",
       "    </tr>\n",
       "    <tr>\n",
       "      <th>K-Nearest Neighbors</th>\n",
       "      <td>33.0</td>\n",
       "      <td>0.8965</td>\n",
       "      <td>0.8601</td>\n",
       "    </tr>\n",
       "    <tr>\n",
       "      <th>Decision Tree</th>\n",
       "      <td>129.0</td>\n",
       "      <td>0.9922</td>\n",
       "      <td>0.8069</td>\n",
       "    </tr>\n",
       "    <tr>\n",
       "      <th>Support Vector Machine</th>\n",
       "      <td>26813.0</td>\n",
       "      <td>0.8918</td>\n",
       "      <td>0.8698</td>\n",
       "    </tr>\n",
       "  </tbody>\n",
       "</table>\n",
       "</div>"
      ],
      "text/plain": [
       "                        Train Time (ms)  Train Accuracy  Test Accuracy\n",
       "Logistic Regression               172.0          0.8742         0.8698\n",
       "K-Nearest Neighbors                33.0          0.8965         0.8601\n",
       "Decision Tree                     129.0          0.9922         0.8069\n",
       "Support Vector Machine          26813.0          0.8918         0.8698"
      ]
     },
     "execution_count": 49,
     "metadata": {},
     "output_type": "execute_result"
    }
   ],
   "source": [
    "metric_columns = ['Train Time (ms)', 'Train Accuracy', 'Test Accuracy']\n",
    "default_results = pd.DataFrame({ \n",
    "        'Logistic Regression': pd.Series(default_lgr_metrics, index=metric_columns), \n",
    "        'K-Nearest Neighbors': pd.Series(default_knn_metrics, index=metric_columns), \n",
    "        'Decision Tree': pd.Series(default_dtc_metrics, index=metric_columns),\n",
    "        'Support Vector Machine': pd.Series(default_svc_metrics, index=metric_columns)}).T\n",
    "default_results"
   ]
  },
  {
   "cell_type": "markdown",
   "metadata": {},
   "source": [
    "### Problem 11: Improving the Model\n",
    "\n",
    "Now that we have some basic models on the board, we want to try to improve these.  Below, we list a few things to explore in this pursuit.\n",
    "\n",
    "- More feature engineering and exploration.  For example, should we keep the gender feature?  Why or why not?\n",
    "- Hyperparameter tuning and grid search.  All of our models have additional hyperparameters to tune and explore.  For example the number of neighbors in KNN or the maximum depth of a Decision Tree.  \n",
    "- Adjust your performance metric"
   ]
  },
  {
   "cell_type": "markdown",
   "metadata": {},
   "source": [
    "Early tests showed a tendenacy toward false negatives. To reduce this tendancy, I tried 'recall' and 'balanced_accuracy' scorers. Both scorers reduced false negatives slightly, but increased false positives considerably. The 'accuracy' scoring metric yielded an accepatable balance."
   ]
  },
  {
   "cell_type": "markdown",
   "metadata": {},
   "source": [
    "#### Logistic Regression"
   ]
  },
  {
   "cell_type": "code",
   "execution_count": 50,
   "metadata": {},
   "outputs": [],
   "source": [
    "params = {\n",
    "    'C': [0.001, 0.01, 0.1, 1, 10, 100, 1000],\n",
    "    'solver': ['lbfgs','newton-cholesky']    \n",
    "}\n",
    "tuned_lgr = GridSearchCV(LogisticRegression(random_state=42), params, cv=5, scoring='accuracy').fit(X_train, y_train)"
   ]
  },
  {
   "cell_type": "code",
   "execution_count": 51,
   "metadata": {},
   "outputs": [
    {
     "name": "stdout",
     "output_type": "stream",
     "text": [
      "Best parameters:\n",
      "{'C': 0.1, 'solver': 'lbfgs'}\n"
     ]
    }
   ],
   "source": [
    "print('Best parameters:')\n",
    "print(tuned_lgr.best_params_)"
   ]
  },
  {
   "cell_type": "code",
   "execution_count": 52,
   "metadata": {},
   "outputs": [],
   "source": [
    "tuned_lgr_start_time_ms = round(time.time() * 1000) \n",
    "tuned_lgr.best_estimator_.fit(X_train, y_train)\n",
    "tuned_lgr_end_time_ms = round(time.time() * 1000)"
   ]
  },
  {
   "cell_type": "code",
   "execution_count": 53,
   "metadata": {
    "scrolled": false
   },
   "outputs": [
    {
     "data": {
      "image/png": "[encoded data removed]",
      "text/plain": [
       "<Figure size 640x480 with 2 Axes>"
      ]
     },
     "metadata": {},
     "output_type": "display_data"
    }
   ],
   "source": [
    "lgr_y_pred = tuned_lgr.predict(X_test)\n",
    "lgr_cm = confusion_matrix(y_test, lgr_y_pred)\n",
    "\n",
    "lgr_cmd = ConfusionMatrixDisplay(confusion_matrix=lgr_cm, display_labels=tuned_lgr.classes_)\n",
    "fig = lgr_cmd.plot().figure_\n",
    "plt.title('Logistic Regression Confusion Matrix')\n",
    "plt.show()\n",
    "fig.tight_layout(rect=(0,.05,1,1)) \n",
    "fig.savefig(\"images/lgr_con_mat.png\", bbox_inches='tight');"
   ]
  },
  {
   "cell_type": "code",
   "execution_count": 54,
   "metadata": {},
   "outputs": [
    {
     "name": "stdout",
     "output_type": "stream",
     "text": [
      "Train Time is 105 ms, Train Accuracy is 0.8748 , Test Accuracy is 0.8713\n"
     ]
    }
   ],
   "source": [
    "tuned_lgr_train_time = round(tuned_lgr_end_time_ms - tuned_lgr_start_time_ms)\n",
    "tuned_lgr_train_score = round(tuned_lgr.score(X_train, y_train), 4)\n",
    "tuned_lgr_test_score = round(accuracy_score(y_test, lgr_y_pred), 4)\n",
    "printMetrics(tuned_lgr_train_time, tuned_lgr_train_score, tuned_lgr_test_score)"
   ]
  },
  {
   "cell_type": "markdown",
   "metadata": {},
   "source": [
    "#### K-Nearest Neighbor"
   ]
  },
  {
   "cell_type": "code",
   "execution_count": 55,
   "metadata": {},
   "outputs": [],
   "source": [
    "params = {'n_neighbors': [1, 2, 5, 10],\n",
    "          'weights': ['uniform', 'distance'],\n",
    "           'metric': ['euclidean', 'manhattan', 'minkowski']\n",
    "}\n",
    "gscv_knn = GridSearchCV(KNeighborsClassifier(), params, cv=5, scoring='accuracy').fit(X_train, y_train)"
   ]
  },
  {
   "cell_type": "code",
   "execution_count": 56,
   "metadata": {},
   "outputs": [
    {
     "name": "stdout",
     "output_type": "stream",
     "text": [
      "Best parameters:\n",
      "{'metric': 'manhattan', 'n_neighbors': 10, 'weights': 'uniform'}\n"
     ]
    }
   ],
   "source": [
    "print('Best parameters:')\n",
    "print(gscv_knn.best_params_)"
   ]
  },
  {
   "cell_type": "code",
   "execution_count": 57,
   "metadata": {},
   "outputs": [],
   "source": [
    "tuned_knn_start_time_ms = round(time.time() * 1000) \n",
    "gscv_knn.best_estimator_.fit(X_train, y_train)\n",
    "tuned_knn_end_time_ms = round(time.time() * 1000)"
   ]
  },
  {
   "cell_type": "code",
   "execution_count": 58,
   "metadata": {},
   "outputs": [
    {
     "data": {
      "image/png": "[encoded data removed]",
      "text/plain": [
       "<Figure size 640x480 with 2 Axes>"
      ]
     },
     "metadata": {},
     "output_type": "display_data"
    }
   ],
   "source": [
    "knn_y_pred = gscv_knn.predict(X_test)\n",
    "knn_cm = confusion_matrix(y_test, knn_y_pred)\n",
    "\n",
    "knn_cmd = ConfusionMatrixDisplay(confusion_matrix=knn_cm, display_labels=gscv_knn.classes_)\n",
    "fig = knn_cmd.plot().figure_\n",
    "plt.title('K-Nearest Neighbors Confusion Matrix')\n",
    "plt.show()\n",
    "fig.tight_layout(rect=(0,.05,1,1)) \n",
    "fig.savefig(\"images/knn_con_mat.png\", bbox_inches='tight');"
   ]
  },
  {
   "cell_type": "code",
   "execution_count": 59,
   "metadata": {},
   "outputs": [
    {
     "name": "stdout",
     "output_type": "stream",
     "text": [
      "Train Time is 41 ms, Train Accuracy is 0.884 , Test Accuracy is 0.8645\n"
     ]
    }
   ],
   "source": [
    "tuned_knn_train_time = round(tuned_knn_end_time_ms - tuned_knn_start_time_ms)\n",
    "tuned_knn_train_score = round(gscv_knn.score(X_train, y_train), 4)\n",
    "tuned_knn_test_score = round(accuracy_score(y_test, knn_y_pred), 4)\n",
    "printMetrics(tuned_knn_train_time, tuned_knn_train_score, tuned_knn_test_score)"
   ]
  },
  {
   "cell_type": "markdown",
   "metadata": {},
   "source": [
    "#### Decision Tree"
   ]
  },
  {
   "cell_type": "code",
   "execution_count": 60,
   "metadata": {},
   "outputs": [],
   "source": [
    "params =  {'criterion': [\"gini\", \"entropy\"],\n",
    "    'max_depth': [3, 5, 8, 10, 15, None],\n",
    "    'min_samples_split': [2, 5, 10, 20, 30, 50, 80, 100, 150, 200],\n",
    "    'min_samples_leaf': [1, 2, 5]\n",
    "}\n",
    "tuned_dtc = GridSearchCV(DecisionTreeClassifier(random_state=42), params, cv=5, scoring='accuracy').fit(X_train, y_train)"
   ]
  },
  {
   "cell_type": "code",
   "execution_count": 61,
   "metadata": {},
   "outputs": [
    {
     "name": "stdout",
     "output_type": "stream",
     "text": [
      "{'criterion': 'entropy', 'max_depth': 5, 'min_samples_leaf': 1, 'min_samples_split': 100}\n"
     ]
    }
   ],
   "source": [
    "print(tuned_dtc.best_params_)"
   ]
  },
  {
   "cell_type": "code",
   "execution_count": 62,
   "metadata": {},
   "outputs": [],
   "source": [
    "tuned_dtc_start_time_ms = round(time.time() * 1000) \n",
    "tuned_dtc.best_estimator_.fit(X_train, y_train)\n",
    "tuned_dtc_end_time_ms = round(time.time() * 1000)"
   ]
  },
  {
   "cell_type": "code",
   "execution_count": 63,
   "metadata": {},
   "outputs": [
    {
     "data": {
      "image/png": "[encoded data removed]",
      "text/plain": [
       "<Figure size 640x480 with 2 Axes>"
      ]
     },
     "metadata": {},
     "output_type": "display_data"
    }
   ],
   "source": [
    "dtc_y_pred = tuned_dtc.predict(X_test)\n",
    "dtc_cm = confusion_matrix(y_test, dtc_y_pred)\n",
    "\n",
    "dtc_cmd = ConfusionMatrixDisplay(confusion_matrix=dtc_cm, display_labels=tuned_dtc.classes_)\n",
    "fig = dtc_cmd.plot().figure_\n",
    "plt.title('Decision Tree Confusion Matrix')\n",
    "plt.show()\n",
    "fig.tight_layout(rect=(0,.05,1,1)) \n",
    "fig.savefig(\"images/dtc_con_mat.png\", bbox_inches='tight');"
   ]
  },
  {
   "cell_type": "code",
   "execution_count": 64,
   "metadata": {},
   "outputs": [
    {
     "name": "stdout",
     "output_type": "stream",
     "text": [
      "Train Time is 64 ms, Train Accuracy is 0.8831 , Test Accuracy is 0.8696\n"
     ]
    }
   ],
   "source": [
    "tuned_dtc_train_time = round(tuned_dtc_end_time_ms - tuned_dtc_start_time_ms)\n",
    "tuned_dtc_train_score = round(tuned_dtc.score(X_train, y_train), 4)\n",
    "tuned_dtc_test_score = round(accuracy_score(y_test, dtc_y_pred), 4)\n",
    "printMetrics(tuned_dtc_train_time, tuned_dtc_train_score, tuned_dtc_test_score)"
   ]
  },
  {
   "cell_type": "markdown",
   "metadata": {},
   "source": [
    "#### Support Vector Classifier"
   ]
  },
  {
   "cell_type": "code",
   "execution_count": 65,
   "metadata": {},
   "outputs": [],
   "source": [
    "params = {\n",
    "    'C': [1, 10],\n",
    "    'kernel': ['rbf','poly']    \n",
    "}\n",
    "gscv_svc = GridSearchCV(SVC(random_state=42), params, return_train_score=True, cv=5, scoring='accuracy').fit(X_train, y_train)"
   ]
  },
  {
   "cell_type": "code",
   "execution_count": 66,
   "metadata": {},
   "outputs": [
    {
     "name": "stdout",
     "output_type": "stream",
     "text": [
      "{'C': 1, 'kernel': 'rbf'}\n"
     ]
    }
   ],
   "source": [
    "print(gscv_svc.best_params_)"
   ]
  },
  {
   "cell_type": "code",
   "execution_count": 67,
   "metadata": {},
   "outputs": [],
   "source": [
    "tuned_svc_start_time_ms = round(time.time() * 1000) \n",
    "gscv_svc.best_estimator_.fit(X_train, y_train)\n",
    "tuned_svc_end_time_ms = round(time.time() * 1000)"
   ]
  },
  {
   "cell_type": "code",
   "execution_count": 68,
   "metadata": {},
   "outputs": [
    {
     "data": {
      "image/png": "[encoded data removed]",
      "text/plain": [
       "<Figure size 640x480 with 2 Axes>"
      ]
     },
     "metadata": {},
     "output_type": "display_data"
    }
   ],
   "source": [
    "svc_y_pred = gscv_svc.predict(X_test)\n",
    "svc_cm = confusion_matrix(y_test, svc_y_pred)\n",
    "\n",
    "svc_cmd = ConfusionMatrixDisplay(confusion_matrix=svc_cm, display_labels=gscv_svc.classes_)\n",
    "fig = svc_cmd.plot().figure_\n",
    "plt.title('Support Vector Machine Confusion Matrix')\n",
    "plt.show()\n",
    "fig.tight_layout(rect=(0,.05,1,1)) \n",
    "fig.savefig(\"images/svc_con_mat.png\", bbox_inches='tight');"
   ]
  },
  {
   "cell_type": "code",
   "execution_count": 69,
   "metadata": {},
   "outputs": [
    {
     "name": "stdout",
     "output_type": "stream",
     "text": [
      "Train Time is 25491 ms, Train Accuracy is 0.8918 , Test Accuracy is 0.8698\n"
     ]
    }
   ],
   "source": [
    "tuned_svc_train_time = round(tuned_svc_end_time_ms - tuned_svc_start_time_ms)\n",
    "tuned_svc_train_score = round(gscv_svc.score(X_train, y_train), 4)\n",
    "tuned_svc_test_score = round(accuracy_score(y_test, svc_y_pred), 4)\n",
    "printMetrics(tuned_svc_train_time, tuned_svc_train_score, tuned_svc_test_score)"
   ]
  },
  {
   "cell_type": "code",
   "execution_count": 70,
   "metadata": {},
   "outputs": [
    {
     "data": {
      "text/html": [
       "<div>\n",
       "<style scoped>\n",
       "    .dataframe tbody tr th:only-of-type {\n",
       "        vertical-align: middle;\n",
       "    }\n",
       "\n",
       "    .dataframe tbody tr th {\n",
       "        vertical-align: top;\n",
       "    }\n",
       "\n",
       "    .dataframe thead th {\n",
       "        text-align: right;\n",
       "    }\n",
       "</style>\n",
       "<table border=\"1\" class=\"dataframe\">\n",
       "  <thead>\n",
       "    <tr style=\"text-align: right;\">\n",
       "      <th></th>\n",
       "      <th>Train Time (ms)</th>\n",
       "      <th>Train Accuracy</th>\n",
       "      <th>Test Accuracy</th>\n",
       "    </tr>\n",
       "  </thead>\n",
       "  <tbody>\n",
       "    <tr>\n",
       "      <th>Logistic Regression</th>\n",
       "      <td>105</td>\n",
       "      <td>0.8748</td>\n",
       "      <td>0.8713</td>\n",
       "    </tr>\n",
       "    <tr>\n",
       "      <th>K-Nearest Neighbors</th>\n",
       "      <td>41</td>\n",
       "      <td>0.8840</td>\n",
       "      <td>0.8645</td>\n",
       "    </tr>\n",
       "    <tr>\n",
       "      <th>Decision Tree</th>\n",
       "      <td>64</td>\n",
       "      <td>0.8831</td>\n",
       "      <td>0.8696</td>\n",
       "    </tr>\n",
       "    <tr>\n",
       "      <th>Support Vector Machine</th>\n",
       "      <td>25491</td>\n",
       "      <td>0.8918</td>\n",
       "      <td>0.8698</td>\n",
       "    </tr>\n",
       "  </tbody>\n",
       "</table>\n",
       "</div>"
      ],
      "text/plain": [
       "                        Train Time (ms)  Train Accuracy  Test Accuracy\n",
       "Logistic Regression                 105          0.8748         0.8713\n",
       "K-Nearest Neighbors                  41          0.8840         0.8645\n",
       "Decision Tree                        64          0.8831         0.8696\n",
       "Support Vector Machine            25491          0.8918         0.8698"
      ]
     },
     "execution_count": 70,
     "metadata": {},
     "output_type": "execute_result"
    }
   ],
   "source": [
    "tuned_results = pd.DataFrame({\n",
    "    'Train Time (ms)': [tuned_lgr_train_time, tuned_knn_train_time, tuned_dtc_train_time, tuned_svc_train_time],\n",
    "    'Train Accuracy': [tuned_lgr_train_score, tuned_knn_train_score, tuned_dtc_train_score, tuned_svc_train_score],\n",
    "    'Test Accuracy': [tuned_lgr_test_score, tuned_knn_test_score, tuned_dtc_test_score, tuned_svc_test_score]\n",
    "}, index=['Logistic Regression','K-Nearest Neighbors','Decision Tree','Support Vector Machine'])\n",
    "tuned_results"
   ]
  },
  {
   "cell_type": "markdown",
   "metadata": {},
   "source": [
    "#### Additional Feature Selection"
   ]
  },
  {
   "cell_type": "markdown",
   "metadata": {},
   "source": [
    "The scores might be improved with additional feature selection. This can be done for the logistic regression model and the decision tree model. The support vector classifier doesn't provide coefficients because the default kernel is RBF."
   ]
  },
  {
   "cell_type": "code",
   "execution_count": 71,
   "metadata": {},
   "outputs": [
    {
     "data": {
      "image/png": "[encoded data removed]",
      "text/plain": [
       "<Figure size 1000x600 with 1 Axes>"
      ]
     },
     "metadata": {},
     "output_type": "display_data"
    }
   ],
   "source": [
    "best_lgr = tuned_lgr.best_estimator_\n",
    "lgr_feat_imp = pd.DataFrame({\n",
    "    'Feature': X_train.columns.tolist(),\n",
    "    'Coefficients': best_lgr.coef_[0]}).sort_values(by=['Coefficients'], ascending=False)\n",
    "\n",
    "fig = plt.figure(figsize=(10, 6))\n",
    "plt.title('Logistic Regression Feature Importance')\n",
    "plt.xticks(rotation=90)\n",
    "sns.barplot(lgr_feat_imp, x='Feature', y='Coefficients')\n",
    "plt.show()\n",
    "fig.tight_layout(rect=(0,.05,1,1)) \n",
    "fig.savefig(\"images/lgr_feat_imp.png\", bbox_inches='tight');"
   ]
  },
  {
   "cell_type": "code",
   "execution_count": 72,
   "metadata": {},
   "outputs": [
    {
     "name": "stdout",
     "output_type": "stream",
     "text": [
      "Score with all features: 0.8713\n",
      "Best score with selected features: 0.872  threshold: 0.085\n"
     ]
    }
   ],
   "source": [
    "max_score = 0\n",
    "max_threshold = 0\n",
    "for threshold in [1, 0.5, 0.3, 0.2, 0.15, 0.14, 0.13, 0.1, 0.09, 0.085, 0.08, 0.06, 0.055, 0.05, 0.049]:\n",
    "    lgr_selector = SelectFromModel(best_lgr, threshold=threshold)\n",
    "    lgr_selectedFeatures = X_train.columns[lgr_selector.get_support()]\n",
    "  \n",
    "    lgr_X_train_selected = lgr_selector.transform(X_train.values) \n",
    "    lgr_X_test_selected = lgr_selector.transform(X_test.values)\n",
    "    \n",
    "    selected_lgr = LogisticRegression(random_state=42, C= 0.1, solver='lbfgs').fit(lgr_X_train_selected, y_train)\n",
    "    \n",
    "    selected_lgr_y_pred = selected_lgr.predict(lgr_X_test_selected)\n",
    "    selected_lgr_score = round(accuracy_score(y_test, selected_lgr_y_pred), 4)\n",
    "    if selected_lgr_score > max_score:\n",
    "        max_score = selected_lgr_score\n",
    "        max_threshold = threshold\n",
    "print('Score with all features:', tuned_lgr_test_score)        \n",
    "print('Best score with selected features:', max_score, ' threshold:', max_threshold)"
   ]
  },
  {
   "cell_type": "markdown",
   "metadata": {},
   "source": [
    "There was only a slight increase when the dataset was limited to selected features."
   ]
  },
  {
   "cell_type": "code",
   "execution_count": 73,
   "metadata": {},
   "outputs": [
    {
     "data": {
      "image/png": "[encoded data removed]",
      "text/plain": [
       "<Figure size 1000x600 with 1 Axes>"
      ]
     },
     "metadata": {},
     "output_type": "display_data"
    }
   ],
   "source": [
    "best_dtc = tuned_dtc.best_estimator_\n",
    "dtc_feat_imp = pd.DataFrame({\n",
    "    'Feature': X.columns.tolist(), \n",
    "    'Importance': best_dtc.feature_importances_}).sort_values(by=['Importance'], ascending=False)\n",
    "\n",
    "fig = plt.figure(figsize=(10, 6))\n",
    "plt.title('Decision Tree Feature Importance')\n",
    "plt.xticks(rotation=90)\n",
    "sns.barplot(dtc_feat_imp, x='Feature', y='Importance')\n",
    "plt.show()\n",
    "fig.tight_layout(rect=(0,.05,1,1)) \n",
    "fig.savefig(\"images/dtc_feat_imp.png\", bbox_inches='tight');"
   ]
  },
  {
   "cell_type": "code",
   "execution_count": 74,
   "metadata": {},
   "outputs": [
    {
     "name": "stdout",
     "output_type": "stream",
     "text": [
      "Score with all features: 0.8696\n",
      "Best score with selected features: 0.8692  threshold: 0.04\n"
     ]
    }
   ],
   "source": [
    "max_score = 0\n",
    "max_threshold = 0\n",
    "for threshold in [0.5, 0.1, 0.05, 0.04, 0.03, 0.012, 0.01, 0.005]:\n",
    "    dtc_selector = SelectFromModel(best_dtc, threshold=threshold)\n",
    "    dtc_selectedFeatures = X_train.columns[dtc_selector.get_support()]\n",
    "  \n",
    "    dtc_X_train_selected = dtc_selector.transform(X_train.values) \n",
    "    dtc_X_test_selected = dtc_selector.transform(X_test.values)\n",
    "    \n",
    "    selected_dtc = DecisionTreeClassifier(random_state=42, criterion='entropy', max_depth=5, min_samples_leaf=1, min_samples_split=100).fit(dtc_X_train_selected, y_train)\n",
    "    \n",
    "    selected_dtc_y_pred = selected_dtc.predict(dtc_X_test_selected)\n",
    "    selected_dtc_score = round(accuracy_score(y_test, selected_dtc_y_pred), 4)\n",
    "    if selected_dtc_score > max_score:\n",
    "        max_score = selected_dtc_score\n",
    "        max_threshold = threshold\n",
    "print('Score with all features:', tuned_dtc_test_score)        \n",
    "print('Best score with selected features:', max_score, ' threshold:', max_threshold)"
   ]
  },
  {
   "cell_type": "markdown",
   "metadata": {},
   "source": [
    "Again, limiting the selected features didn't improve the score."
   ]
  },
  {
   "cell_type": "markdown",
   "metadata": {},
   "source": [
    "Although feature selection didn't improve the score, it does show which featres have the most affect on the model."
   ]
  },
  {
   "cell_type": "code",
   "execution_count": null,
   "metadata": {},
   "outputs": [],
   "source": []
  }
 ],
 "metadata": {
  "kernelspec": {
   "display_name": "Python 3 (ipykernel)",
   "language": "python",
   "name": "python3"
  },
  "language_info": {
   "codemirror_mode": {
    "name": "ipython",
    "version": 3
   },
   "file_extension": ".py",
   "mimetype": "text/x-python",
   "name": "python",
   "nbconvert_exporter": "python",
   "pygments_lexer": "ipython3",
   "version": "3.11.5"
  },
  "widgets": {
   "application/vnd.jupyter.widget-state+json": {
    "state": {},
    "version_major": 2,
    "version_minor": 0
   }
  }
 },
 "nbformat": 4,
 "nbformat_minor": 4
}
